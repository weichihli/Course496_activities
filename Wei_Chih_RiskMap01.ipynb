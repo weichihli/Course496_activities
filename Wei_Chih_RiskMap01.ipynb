{
  "nbformat": 4,
  "nbformat_minor": 0,
  "metadata": {
    "colab": {
      "name": "Wei Chih_RiskMap01.ipynb",
      "provenance": [],
      "authorship_tag": "ABX9TyN8JXDcPMPaIPMDl7gdW+EE",
      "include_colab_link": true
    },
    "kernelspec": {
      "name": "python3",
      "display_name": "Python 3"
    },
    "language_info": {
      "name": "python"
    }
  },
  "cells": [
    {
      "cell_type": "markdown",
      "metadata": {
        "id": "view-in-github",
        "colab_type": "text"
      },
      "source": [
        "<a href=\"https://colab.research.google.com/github/weichihli/Course496_activities/blob/main/Wei_Chih_RiskMap01.ipynb\" target=\"_parent\"><img src=\"https://colab.research.google.com/assets/colab-badge.svg\" alt=\"Open In Colab\"/></a>"
      ]
    },
    {
      "cell_type": "code",
      "execution_count": 15,
      "metadata": {
        "colab": {
          "base_uri": "https://localhost:8080/",
          "height": 609
        },
        "id": "hIayUiWsh8_l",
        "outputId": "1a7bb41c-2492-447c-a4d1-b332db11d697"
      },
      "outputs": [
        {
          "output_type": "stream",
          "name": "stdout",
          "text": [
            "likelihood  0.2  0.4  0.5  0.6\n",
            "impact                        \n",
            "5           NaN  2.0  NaN  NaN\n",
            "7           NaN  NaN  3.5  NaN\n",
            "8           NaN  NaN  NaN  4.8\n",
            "9           1.8  NaN  NaN  NaN\n",
            "likelihood                0.2                         0.4              0.5  \\\n",
            "impact                                                                       \n",
            "5                         NaN  Project is behind schedule              NaN   \n",
            "7                         NaN                         NaN  Unskilled staff   \n",
            "8                         NaN                         NaN              NaN   \n",
            "9           Goal not achieved                         NaN              NaN   \n",
            "\n",
            "likelihood      0.6  \n",
            "impact               \n",
            "5               NaN  \n",
            "7               NaN  \n",
            "8           quality  \n",
            "9               NaN  \n"
          ]
        },
        {
          "output_type": "display_data",
          "data": {
            "text/plain": [
              "<Figure size 432x288 with 2 Axes>"
            ],
            "image/png": "[encoded data removed]"
          },
          "metadata": {
            "needs_background": "light"
          }
        }
      ],
      "source": [
        "import seaborn as sns\n",
        "import pandas as pd\n",
        "import numpy as np\n",
        "df = pd.DataFrame(columns=['risk', 'likelihood', 'impact', 'score'])\n",
        "df['risk']=['quality', 'Project is behind schedule', 'Goal not achieved', 'Unskilled staff']\n",
        "df['likelihood']=[0.6,0.4,0.2,0.5]\n",
        "df['impact']=[8,5,9,7]\n",
        "df['score']=df['impact']*df['likelihood']\n",
        "scoresPivot=df.pivot('impact', 'likelihood', 'score')\n",
        "print(scoresPivot)\n",
        "labelsPivot=df.pivot('impact', 'likelihood', 'risk')\n",
        "print(labelsPivot)\n",
        "p1=sns.heatmap(scoresPivot, cmap=\"CMRmap_r\", annot=labelsPivot, fmt='')"
      ]
    }
  ]
}