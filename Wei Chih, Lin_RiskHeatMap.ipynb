{
  "nbformat": 4,
  "nbformat_minor": 0,
  "metadata": {
    "colab": {
      "name": "Untitled0.ipynb",
      "provenance": [],
      "authorship_tag": "ABX9TyNxnwIN+BnNsf4ygP3TU886",
      "include_colab_link": true
    },
    "kernelspec": {
      "name": "python3",
      "display_name": "Python 3"
    },
    "language_info": {
      "name": "python"
    }
  },
  "cells": [
    {
      "cell_type": "markdown",
      "metadata": {
        "id": "view-in-github",
        "colab_type": "text"
      },
      "source": [
        "<a href=\"https://colab.research.google.com/github/weichihli/Course496_activities/blob/main/Wei%20Chih%2C%20Lin_RiskHeatMap.ipynb\" target=\"_parent\"><img src=\"https://colab.research.google.com/assets/colab-badge.svg\" alt=\"Open In Colab\"/></a>"
      ]
    },
    {
      "cell_type": "code",
      "execution_count": 6,
      "metadata": {
        "colab": {
          "base_uri": "https://localhost:8080/",
          "height": 491
        },
        "id": "nPop2eZPvYlM",
        "outputId": "f0efa231-1d1e-4ab7-b9e0-f34f47bf8790"
      },
      "outputs": [
        {
          "output_type": "stream",
          "name": "stdout",
          "text": [
            "likelihood  0.1  0.2  0.3  0.5\n",
            "impact                        \n",
            "1           NaN  0.2  NaN  NaN\n",
            "2           NaN  NaN  0.6  NaN\n",
            "7           0.7  NaN  NaN  NaN\n",
            "10          NaN  NaN  NaN  5.0\n",
            "likelihood     0.1    0.2   0.3       0.5\n",
            "impact                                   \n",
            "1              NaN  users   NaN       NaN\n",
            "2              NaN    NaN  team       NaN\n",
            "7           budget    NaN   NaN       NaN\n",
            "10             NaN    NaN   NaN  security\n"
          ]
        },
        {
          "output_type": "display_data",
          "data": {
            "text/plain": [
              "<Figure size 432x288 with 2 Axes>"
            ],
            "image/png": "[encoded data removed]"
          },
          "metadata": {
            "needs_background": "light"
          }
        }
      ],
      "source": [
        "import seaborn as sns\n",
        "import pandas as pd\n",
        "import numpy as np\n",
        "df = pd.DataFrame(columns=['risk', 'likelihood', 'impact', 'score'])\n",
        "df['risk']=['users', 'team', 'budget', 'security']\n",
        "df['likelihood']=[0.2,0.3,0.1,0.5]\n",
        "df['impact']=[1,2,7,10]\n",
        "df['score']=df['impact']*df['likelihood']\n",
        "scoresPivot=df.pivot('impact', 'likelihood', 'score')\n",
        "print(scoresPivot)\n",
        "labelsPivot=df.pivot('impact', 'likelihood', 'risk')\n",
        "print(labelsPivot)\n",
        "p1=sns.heatmap(scoresPivot, cmap=\"BuGn\", annot=labelsPivot, fmt='')"
      ]
    }
  ]
}