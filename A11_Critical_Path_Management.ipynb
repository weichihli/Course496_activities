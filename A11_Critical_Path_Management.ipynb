{
  "nbformat": 4,
  "nbformat_minor": 0,
  "metadata": {
    "colab": {
      "name": "A11- Critical Path Management.ipynb",
      "provenance": [],
      "mount_file_id": "1CUpbKfCn388mP1Fw-qtjGvCp9Lmh75df",
      "authorship_tag": "ABX9TyPbf2TnZQRxPBsFageG6ZQR",
      "include_colab_link": true
    },
    "kernelspec": {
      "name": "python3",
      "display_name": "Python 3"
    },
    "language_info": {
      "name": "python"
    }
  },
  "cells": [
    {
      "cell_type": "markdown",
      "metadata": {
        "id": "view-in-github",
        "colab_type": "text"
      },
      "source": [
        "<a href=\"https://colab.research.google.com/github/weichihli/Course496_activities/blob/main/A11_Critical_Path_Management.ipynb\" target=\"_parent\"><img src=\"https://colab.research.google.com/assets/colab-badge.svg\" alt=\"Open In Colab\"/></a>"
      ]
    },
    {
      "cell_type": "code",
      "execution_count": 4,
      "metadata": {
        "colab": {
          "base_uri": "https://localhost:8080/"
        },
        "id": "rAo1Ulcqzcp1",
        "outputId": "9a67fba8-8d31-43bf-892e-6d8efe7912ff"
      },
      "outputs": [
        {
          "output_type": "stream",
          "name": "stdout",
          "text": [
            "Index(['A', 'B', 'C', 'D', 'E', 'F', 'G', 'H', 'I', 'J', 'EOP'], dtype='object', name='tasks')\n",
            "tasks         A         B         C         D         E         F         G  \\\n",
            "0      6.836711  4.420671  3.767600  2.350512  5.048824  3.219552  3.155299   \n",
            "1      4.500535  4.060903  3.630911  2.567119  3.938249  5.573093  4.511463   \n",
            "\n",
            "tasks         H          I         J  EOP  \n",
            "0      4.381157  13.187030  2.918066  NaN  \n",
            "1      8.500715   9.326048  2.400001  NaN  \n"
          ]
        }
      ],
      "source": [
        "import pandas as pd\n",
        "import tensorflow_probability as tfp\n",
        "tfd = tfp.distributions\n",
        "\n",
        "tasksDF=pd.read_csv(\"/content/drive/MyDrive/PERT-CPM.csv\")\n",
        "taskNames=tasksDF['tasks']\n",
        "\n",
        "simulationDF=pd.DataFrame(columns=taskNames)\n",
        "\n",
        "print(simulationDF.columns)\n",
        "for index, task in tasksDF.iterrows():\n",
        "  dist=tfd.PERT(low=task['best'], peak=task['mostL'], high=task['worst'], temperature=4)\n",
        "  simulationDF[task['tasks']]=dist.sample(100000)\n",
        "\n",
        "print(simulationDF.head(2))"
      ]
    }
  ]
}