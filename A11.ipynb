{
  "nbformat": 4,
  "nbformat_minor": 0,
  "metadata": {
    "colab": {
      "name": "A11.ipynb",
      "provenance": [],
      "authorship_tag": "ABX9TyPIu5Wz0XpqayvvZNCyLIpW",
      "include_colab_link": true
    },
    "kernelspec": {
      "name": "python3",
      "display_name": "Python 3"
    },
    "language_info": {
      "name": "python"
    }
  },
  "cells": [
    {
      "cell_type": "markdown",
      "metadata": {
        "id": "view-in-github",
        "colab_type": "text"
      },
      "source": [
        "<a href=\"https://colab.research.google.com/github/weichihli/Course496_activities/blob/main/A11.ipynb\" target=\"_parent\"><img src=\"https://colab.research.google.com/assets/colab-badge.svg\" alt=\"Open In Colab\"/></a>"
      ]
    },
    {
      "cell_type": "code",
      "execution_count": null,
      "metadata": {
        "id": "gLWDnVqC1yWw"
      },
      "outputs": [],
      "source": [
        "import pandas as pd\n",
        "import tensorflow_probability as tfp\n",
        "tfd = tfp,distributions\n",
        "\n",
        "tasksDF=pd.read_csv()\n",
        "taskNames=tasksDF['tasks']\n",
        "\n",
        "simulationDF=pd.DataFrame(columns=taskNames)\n",
        "\n",
        "print(simulationDF.columns)\n",
        "for index, task in tasksDF.iterrows():\n",
        "  dist=tfd.PERT(low=task['best'], peak=task['mostL'], high=task['worst'], temperature=4)\n",
        "  simulationDF[task['tasks']]=dist.simple(100000)\n",
        "\n",
        "print(simulationDF.head(2))"
      ]
    },
    {
      "cell_type": "code",
      "source": [
        ""
      ],
      "metadata": {
        "id": "cS-5WcvCBoMI"
      },
      "execution_count": null,
      "outputs": []
    }
  ]
}